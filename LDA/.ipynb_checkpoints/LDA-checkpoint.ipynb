{
 "cells": [
  {
   "cell_type": "code",
   "execution_count": 18,
   "metadata": {
    "collapsed": false
   },
   "outputs": [],
   "source": [
    "from numpy import *\n",
    "import matplotlib.pyplot as plt"
   ]
  },
  {
   "cell_type": "code",
   "execution_count": 19,
   "metadata": {
    "collapsed": false
   },
   "outputs": [
    {
     "name": "stdout",
     "output_type": "stream",
     "text": [
      "[[ 0.666   0.091 ]\n",
      " [ 0.243   0.0267]\n",
      " [ 0.245   0.057 ]\n",
      " [ 0.343   0.099 ]\n",
      " [ 0.639   0.161 ]\n",
      " [ 0.657   0.198 ]\n",
      " [ 0.36    0.37  ]\n",
      " [ 0.593   0.042 ]\n",
      " [ 0.719   0.103 ]]\n",
      "[[ 0.697  0.46 ]\n",
      " [ 0.774  0.376]\n",
      " [ 0.634  0.264]\n",
      " [ 0.608  0.318]\n",
      " [ 0.556  0.215]\n",
      " [ 0.403  0.237]\n",
      " [ 0.481  0.149]\n",
      " [ 0.437  0.211]]\n"
     ]
    }
   ],
   "source": [
    "#import data\n",
    "x0 = []\n",
    "x1 = []\n",
    "readFile = open('watermelon.txt')\n",
    "for row in readFile:\n",
    "    rowArray = row.strip().split()\n",
    "    label = int(rowArray[2])\n",
    "    if (label == 0):\n",
    "        x0.append([float(rowArray[0]), float(rowArray[1])])\n",
    "    else:\n",
    "        x1.append([float(rowArray[0]), float(rowArray[1])])\n",
    "x0 = mat(x0)\n",
    "x1 = mat(x1)\n",
    "print x0\n",
    "print x1"
   ]
  },
  {
   "cell_type": "code",
   "execution_count": 20,
   "metadata": {
    "collapsed": true
   },
   "outputs": [],
   "source": [
    "#compute w for 2d data\n",
    "def lda():\n",
    "    mean_x0 = array([mean(x0[:, 0]), mean(x0[:,1])])\n",
    "    mean_x1 = array([mean(x1[:, 0]), mean(x1[:,1])])\n",
    "    s_w = zeros(shape = (2,2))\n",
    "    for i in range(shape(x0)[0]):\n",
    "        temp = mat(x0[i, :] - mean_x0)\n",
    "        s_w += temp.transpose() * temp\n",
    "    for i in range(shape(x1)[0]):\n",
    "        temp = mat(x1[i, :] - mean_x1)\n",
    "        s_w += temp.transpose() * temp\n",
    "    w = (mean_x0 - mean_x1) * (mat(s_w).I)\n",
    "    return w"
   ]
  },
  {
   "cell_type": "code",
   "execution_count": 23,
   "metadata": {
    "collapsed": true
   },
   "outputs": [],
   "source": [
    "def plot(w):\n",
    "    print 'Printing...'\n",
    "    for i in range(shape(x0)[0]):\n",
    "        plt.plot(x0[i, 0], x0[i, 1], 'or')\n",
    "    for i in range(shape(x1)[0]):\n",
    "        plt.plot(x1[i, 0], x1[i, 1], 'ob')\n",
    "    x = arange(0, 1, 0.1)\n",
    "    y = array((-w[0, 0] * x) / w[0, 1])\n",
    "    plt.plot(x, y)\n",
    "    plt.xlabel('x1')\n",
    "    plt.ylabel('x2')\n",
    "    plt.title('LDA')\n",
    "    plt.show()"
   ]
  },
  {
   "cell_type": "code",
   "execution_count": 24,
   "metadata": {
    "collapsed": false
   },
   "outputs": [
    {
     "name": "stdout",
     "output_type": "stream",
     "text": [
      "[[ -6.62487509e-04  -9.36728168e-01]]\n",
      "Printing...\n"
     ]
    },
    {
     "data": {
      "image/png": "[encoded data removed]",
      "text/plain": [
       "<matplotlib.figure.Figure at 0x10e667a90>"
      ]
     },
     "metadata": {},
     "output_type": "display_data"
    }
   ],
   "source": [
    "w = lda()\n",
    "print w\n",
    "plot(w)"
   ]
  },
  {
   "cell_type": "code",
   "execution_count": null,
   "metadata": {
    "collapsed": true
   },
   "outputs": [],
   "source": []
  }
 ],
 "metadata": {
  "anaconda-cloud": {},
  "kernelspec": {
   "display_name": "Python [default]",
   "language": "python",
   "name": "python2"
  },
  "language_info": {
   "codemirror_mode": {
    "name": "ipython",
    "version": 2
   },
   "file_extension": ".py",
   "mimetype": "text/x-python",
   "name": "python",
   "nbconvert_exporter": "python",
   "pygments_lexer": "ipython2",
   "version": "2.7.12"
  }
 },
 "nbformat": 4,
 "nbformat_minor": 1
}

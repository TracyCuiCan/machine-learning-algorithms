{
 "cells": [
  {
   "cell_type": "code",
   "execution_count": 3,
   "metadata": {
    "collapsed": false
   },
   "outputs": [
    {
     "name": "stderr",
     "output_type": "stream",
     "text": [
      "/Users/tracy/anaconda2/lib/python2.7/site-packages/matplotlib/font_manager.py:273: UserWarning: Matplotlib is building the font cache using fc-list. This may take a moment.\n",
      "  warnings.warn('Matplotlib is building the font cache using fc-list. This may take a moment.')\n"
     ]
    }
   ],
   "source": [
    "from numpy import *\n",
    "import matplotlib.pyplot as plt"
   ]
  },
  {
   "cell_type": "code",
   "execution_count": 4,
   "metadata": {
    "collapsed": true
   },
   "outputs": [],
   "source": [
    "def sigmoid(inX):\n",
    "    return 1.0/(1 + exp(-inX))"
   ]
  },
  {
   "cell_type": "code",
   "execution_count": 20,
   "metadata": {
    "collapsed": true
   },
   "outputs": [],
   "source": [
    "def trainLogReg(xtrain, ytrain, param):\n",
    "    numSample, numFeature = shape(xtrain)\n",
    "    alpha = params['alpha']\n",
    "    maxIter = params['maxIter']\n",
    "    weights = ones((numFeature, 1))\n",
    "    \n",
    "    for i in range(maxIter):\n",
    "        if param['optimizeType'] == 'gradDescent': #gradient descent\n",
    "            output = sigmoid(xtrain * weights)\n",
    "            error = ytrain - output\n",
    "            weights = weights + alpha * xtrain.transpose() * error\n",
    "        elif param['optimizeType'] == 'stocGradDescent': #stochastic gradient descent\n",
    "            for j in range(numSample):\n",
    "                output = sigmoid(xtrain[j,:] * weights)\n",
    "                error = ytrain[j] - output\n",
    "                weights = weights + alpha * xtrain[j, :].transpose() * error\n",
    "        elif param['optimizeType'] == 'smoothStocGradDescent': #smooth stochastic gradient descent\n",
    "            dataIndex = range(numSample)\n",
    "            for j in range(numSample):\n",
    "                alpha = 4.0/(1.0 + i + j) + 0.01\n",
    "                randIndex = int(random.uniform(0, len(dataIndex)))\n",
    "                print weights\n",
    "                output = sigmoid(xtrain[randIndex, :] * weights)\n",
    "                error = ytrain[randIndex] - output\n",
    "                weights = weights + alpha * xtrain[randIndex,:].transpose() * error\n",
    "                del(dataIndex[randIndex]) #after one iteration, delete the sample\n",
    "        else:\n",
    "            raise NameError('Optimize type not valid!')\n",
    "            \n",
    "    return weights"
   ]
  },
  {
   "cell_type": "code",
   "execution_count": 16,
   "metadata": {
    "collapsed": false
   },
   "outputs": [],
   "source": [
    "def testLogReg(weights, xtest, ytest):\n",
    "    numSample, numFeature = shape(xtest)\n",
    "    correct = 0\n",
    "    for i in xrange(numSample):\n",
    "        predict = sigmoid(xtest[i,:] * weights) > 0.5\n",
    "        if predict == ytest[i]:\n",
    "            correct += 1\n",
    "    accuracy = float(correct) / numSample\n",
    "    return accuracy"
   ]
  },
  {
   "cell_type": "code",
   "execution_count": 17,
   "metadata": {
    "collapsed": true
   },
   "outputs": [],
   "source": [
    "def plotLogReg(weights, xtrain, ytrain):\n",
    "    numSample, numFeature = shape(xtrain)\n",
    "    #only works for 2D array\n",
    "    #draw all dots\n",
    "    for i in range(numSample):\n",
    "        if (ytrain[i] == 0):\n",
    "            plt.plot(xtrain[i, 1], xtrain[i, 2], 'or')\n",
    "        elif (ytrain[i] == 1):\n",
    "            plt.plot(xtrain[i, 1], xtrain[i, 2], 'ob')\n",
    "            \n",
    "    min_x = min(xtrain[:, 1])\n",
    "    max_x = max(xtrain[:, 1])\n",
    "    weights = weights.getA() #convert mat to array\n",
    "    y_min = float(-weights[0] - weights[1] * min_x) / weights[2]\n",
    "    y_max = float(-weights[0] - weights[1] * max_x) / weights[2]\n",
    "    plt.plot([min_x, max_x], [y_min, y_max], '-g')\n",
    "    plt.xlabel('X1')\n",
    "    plt.ylabel('X2')\n",
    "    plt.show()"
   ]
  },
  {
   "cell_type": "code",
   "execution_count": 22,
   "metadata": {
    "collapsed": false
   },
   "outputs": [
    {
     "name": "stdout",
     "output_type": "stream",
     "text": [
      "Loading data...\n",
      "[['1.0' '0.697' '0.460']\n",
      " ['1.0' '0.774' '0.376']\n",
      " ['1.0' '0.634' '0.264']\n",
      " ['1.0' '0.608' '0.318']\n",
      " ['1.0' '0.556' '0.215']\n",
      " ['1.0' '0.403' '0.237']\n",
      " ['1.0' '0.481' '0.149']\n",
      " ['1.0' '0.437' '0.211']\n",
      " ['1.0' '0.666' '0.091']\n",
      " ['1.0' '0.243' '0.267']\n",
      " ['1.0' '0.245' '0.057']\n",
      " ['1.0' '0.343' '0.099']\n",
      " ['1.0' '0.639' '0.161']\n",
      " ['1.0' '0.657' '0.198']\n",
      " ['1.0' '0.360' '0.370']\n",
      " ['1.0' '0.593' '0.042']\n",
      " ['1.0' '0.719' '0.103']]\n",
      "[['1' '1' '1' '1' '1' '1' '1' '1' '0' '0' '0' '0' '0' '0' '0' '0' '0']]\n",
      "Train the model...\n",
      "[[ 1.]\n",
      " [ 1.]\n",
      " [ 1.]]\n"
     ]
    },
    {
     "ename": "TypeError",
     "evalue": "Cannot cast array data from dtype('float64') to dtype('S32') according to the rule 'safe'",
     "output_type": "error",
     "traceback": [
      "\u001b[0;31m---------------------------------------------------------------------------\u001b[0m",
      "\u001b[0;31mTypeError\u001b[0m                                 Traceback (most recent call last)",
      "\u001b[0;32m<ipython-input-22-a747680fbb93>\u001b[0m in \u001b[0;36m<module>\u001b[0;34m()\u001b[0m\n\u001b[1;32m     19\u001b[0m \u001b[0;32mprint\u001b[0m \u001b[0;34m\"Train the model...\"\u001b[0m\u001b[0;34m\u001b[0m\u001b[0m\n\u001b[1;32m     20\u001b[0m \u001b[0mparams\u001b[0m \u001b[0;34m=\u001b[0m \u001b[0;34m{\u001b[0m\u001b[0;34m'alpha'\u001b[0m\u001b[0;34m:\u001b[0m \u001b[0;36m0.01\u001b[0m\u001b[0;34m,\u001b[0m \u001b[0;34m'maxIter'\u001b[0m\u001b[0;34m:\u001b[0m \u001b[0;36m20\u001b[0m\u001b[0;34m,\u001b[0m \u001b[0;34m'optimizeType'\u001b[0m\u001b[0;34m:\u001b[0m \u001b[0;34m'smoothStocGradDescent'\u001b[0m\u001b[0;34m}\u001b[0m\u001b[0;34m\u001b[0m\u001b[0m\n\u001b[0;32m---> 21\u001b[0;31m \u001b[0mtrainedWeights\u001b[0m \u001b[0;34m=\u001b[0m \u001b[0mtrainLogReg\u001b[0m\u001b[0;34m(\u001b[0m\u001b[0mtrainx\u001b[0m\u001b[0;34m,\u001b[0m \u001b[0mtrainy\u001b[0m\u001b[0;34m,\u001b[0m \u001b[0mparams\u001b[0m\u001b[0;34m)\u001b[0m\u001b[0;34m\u001b[0m\u001b[0m\n\u001b[0m\u001b[1;32m     22\u001b[0m \u001b[0;34m\u001b[0m\u001b[0m\n\u001b[1;32m     23\u001b[0m \u001b[0;34m\u001b[0m\u001b[0m\n",
      "\u001b[0;32m<ipython-input-20-3573ce5a054d>\u001b[0m in \u001b[0;36mtrainLogReg\u001b[0;34m(xtrain, ytrain, param)\u001b[0m\n\u001b[1;32m     21\u001b[0m                 \u001b[0mrandIndex\u001b[0m \u001b[0;34m=\u001b[0m \u001b[0mint\u001b[0m\u001b[0;34m(\u001b[0m\u001b[0mrandom\u001b[0m\u001b[0;34m.\u001b[0m\u001b[0muniform\u001b[0m\u001b[0;34m(\u001b[0m\u001b[0;36m0\u001b[0m\u001b[0;34m,\u001b[0m \u001b[0mlen\u001b[0m\u001b[0;34m(\u001b[0m\u001b[0mdataIndex\u001b[0m\u001b[0;34m)\u001b[0m\u001b[0;34m)\u001b[0m\u001b[0;34m)\u001b[0m\u001b[0;34m\u001b[0m\u001b[0m\n\u001b[1;32m     22\u001b[0m                 \u001b[0;32mprint\u001b[0m \u001b[0mweights\u001b[0m\u001b[0;34m\u001b[0m\u001b[0m\n\u001b[0;32m---> 23\u001b[0;31m                 \u001b[0moutput\u001b[0m \u001b[0;34m=\u001b[0m \u001b[0msigmoid\u001b[0m\u001b[0;34m(\u001b[0m\u001b[0mxtrain\u001b[0m\u001b[0;34m[\u001b[0m\u001b[0mrandIndex\u001b[0m\u001b[0;34m,\u001b[0m \u001b[0;34m:\u001b[0m\u001b[0;34m]\u001b[0m \u001b[0;34m*\u001b[0m \u001b[0mweights\u001b[0m\u001b[0;34m)\u001b[0m\u001b[0;34m\u001b[0m\u001b[0m\n\u001b[0m\u001b[1;32m     24\u001b[0m                 \u001b[0merror\u001b[0m \u001b[0;34m=\u001b[0m \u001b[0mytrain\u001b[0m\u001b[0;34m[\u001b[0m\u001b[0mrandIndex\u001b[0m\u001b[0;34m]\u001b[0m \u001b[0;34m-\u001b[0m \u001b[0moutput\u001b[0m\u001b[0;34m\u001b[0m\u001b[0m\n\u001b[1;32m     25\u001b[0m                 \u001b[0mweights\u001b[0m \u001b[0;34m=\u001b[0m \u001b[0mweights\u001b[0m \u001b[0;34m+\u001b[0m \u001b[0malpha\u001b[0m \u001b[0;34m*\u001b[0m \u001b[0mxtrain\u001b[0m\u001b[0;34m[\u001b[0m\u001b[0mrandIndex\u001b[0m\u001b[0;34m,\u001b[0m\u001b[0;34m:\u001b[0m\u001b[0;34m]\u001b[0m\u001b[0;34m.\u001b[0m\u001b[0mtranspose\u001b[0m\u001b[0;34m(\u001b[0m\u001b[0;34m)\u001b[0m \u001b[0;34m*\u001b[0m \u001b[0merror\u001b[0m\u001b[0;34m\u001b[0m\u001b[0m\n",
      "\u001b[0;32m/Users/tracy/anaconda2/lib/python2.7/site-packages/numpy/matrixlib/defmatrix.pyc\u001b[0m in \u001b[0;36m__mul__\u001b[0;34m(self, other)\u001b[0m\n\u001b[1;32m    341\u001b[0m         \u001b[0;32mif\u001b[0m \u001b[0misinstance\u001b[0m\u001b[0;34m(\u001b[0m\u001b[0mother\u001b[0m\u001b[0;34m,\u001b[0m \u001b[0;34m(\u001b[0m\u001b[0mN\u001b[0m\u001b[0;34m.\u001b[0m\u001b[0mndarray\u001b[0m\u001b[0;34m,\u001b[0m \u001b[0mlist\u001b[0m\u001b[0;34m,\u001b[0m \u001b[0mtuple\u001b[0m\u001b[0;34m)\u001b[0m\u001b[0;34m)\u001b[0m \u001b[0;34m:\u001b[0m\u001b[0;34m\u001b[0m\u001b[0m\n\u001b[1;32m    342\u001b[0m             \u001b[0;31m# This promotes 1-D vectors to row vectors\u001b[0m\u001b[0;34m\u001b[0m\u001b[0;34m\u001b[0m\u001b[0m\n\u001b[0;32m--> 343\u001b[0;31m             \u001b[0;32mreturn\u001b[0m \u001b[0mN\u001b[0m\u001b[0;34m.\u001b[0m\u001b[0mdot\u001b[0m\u001b[0;34m(\u001b[0m\u001b[0mself\u001b[0m\u001b[0;34m,\u001b[0m \u001b[0masmatrix\u001b[0m\u001b[0;34m(\u001b[0m\u001b[0mother\u001b[0m\u001b[0;34m)\u001b[0m\u001b[0;34m)\u001b[0m\u001b[0;34m\u001b[0m\u001b[0m\n\u001b[0m\u001b[1;32m    344\u001b[0m         \u001b[0;32mif\u001b[0m \u001b[0misscalar\u001b[0m\u001b[0;34m(\u001b[0m\u001b[0mother\u001b[0m\u001b[0;34m)\u001b[0m \u001b[0;32mor\u001b[0m \u001b[0;32mnot\u001b[0m \u001b[0mhasattr\u001b[0m\u001b[0;34m(\u001b[0m\u001b[0mother\u001b[0m\u001b[0;34m,\u001b[0m \u001b[0;34m'__rmul__'\u001b[0m\u001b[0;34m)\u001b[0m \u001b[0;34m:\u001b[0m\u001b[0;34m\u001b[0m\u001b[0m\n\u001b[1;32m    345\u001b[0m             \u001b[0;32mreturn\u001b[0m \u001b[0mN\u001b[0m\u001b[0;34m.\u001b[0m\u001b[0mdot\u001b[0m\u001b[0;34m(\u001b[0m\u001b[0mself\u001b[0m\u001b[0;34m,\u001b[0m \u001b[0mother\u001b[0m\u001b[0;34m)\u001b[0m\u001b[0;34m\u001b[0m\u001b[0m\n",
      "\u001b[0;31mTypeError\u001b[0m: Cannot cast array data from dtype('float64') to dtype('S32') according to the rule 'safe'"
     ]
    }
   ],
   "source": [
    "#Load data\n",
    "print \"Loading data...\"\n",
    "xdata = []\n",
    "ydata = []\n",
    "readFile = open('watermellon.txt')\n",
    "for row in readFile.readlines():\n",
    "    rowArray = row.strip().split()\n",
    "    xdata.append([1.0, float(rowArray[0]), float(rowArray[1])])\n",
    "    ydata.append(float(rowArray[2]))\n",
    "\n",
    "trainx = mat(xtrain)\n",
    "print trainx\n",
    "trainy = mat(ytrain).transpose()\n",
    "print trainy\n",
    "\n",
    "testx = trainx\n",
    "testy = trainy\n",
    "\n",
    "print \"Train the model...\"\n",
    "params = {'alpha': 0.01, 'maxIter': 20, 'optimizeType': 'smoothStocGradDescent'}\n",
    "trainedWeights = trainLogReg(trainx, trainy, params)\n",
    "\n",
    "\n",
    "print \"Test the model...\"\n",
    "accuracy = testLogReg(trainedWeights, testx, testy)\n",
    "print \"Accuracy = \", accuracy\n",
    "\n",
    "print \"Make plots...\"\n",
    "plotLogReg(trainedWeights, trainx, trainy)\n"
   ]
  },
  {
   "cell_type": "code",
   "execution_count": null,
   "metadata": {
    "collapsed": true
   },
   "outputs": [],
   "source": []
  },
  {
   "cell_type": "code",
   "execution_count": null,
   "metadata": {
    "collapsed": true
   },
   "outputs": [],
   "source": []
  }
 ],
 "metadata": {
  "anaconda-cloud": {},
  "kernelspec": {
   "display_name": "Python [default]",
   "language": "python",
   "name": "python2"
  },
  "language_info": {
   "codemirror_mode": {
    "name": "ipython",
    "version": 2
   },
   "file_extension": ".py",
   "mimetype": "text/x-python",
   "name": "python",
   "nbconvert_exporter": "python",
   "pygments_lexer": "ipython2",
   "version": "2.7.12"
  }
 },
 "nbformat": 4,
 "nbformat_minor": 1
}

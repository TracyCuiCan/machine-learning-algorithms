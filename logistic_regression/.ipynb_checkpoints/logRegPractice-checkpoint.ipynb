{
 "cells": [
  {
   "cell_type": "code",
   "execution_count": 2,
   "metadata": {
    "collapsed": false
   },
   "outputs": [
    {
     "name": "stdout",
     "output_type": "stream",
     "text": [
      "Loading data...\n",
      "Train the model...\n",
      "Test the model...\n",
      "Accuracy =  0.823529411765\n",
      "Make plots...\n"
     ]
    },
    {
     "data": {
      "image/png": "[encoded data removed]",
      "text/plain": [
       "<matplotlib.figure.Figure at 0x10de1dad0>"
      ]
     },
     "metadata": {},
     "output_type": "display_data"
    }
   ],
   "source": [
    "from numpy import *\n",
    "import matplotlib.pyplot as plt\n",
    "\n",
    "from logreg import *\n",
    "\n",
    "\n",
    "#Load data\n",
    "print \"Loading data...\"\n",
    "xtrain = []\n",
    "ytrain = []\n",
    "readFile = open('watermelon.txt')\n",
    "for row in readFile.readlines():\n",
    "    rowArray = row.strip().split()\n",
    "    xtrain.append([1.0, float(rowArray[0]), float(rowArray[1])])\n",
    "    ytrain.append(float(rowArray[2]))\n",
    "\n",
    "trainx = mat(xtrain)\n",
    "trainy = mat(ytrain).transpose()\n",
    "\n",
    "testx = trainx\n",
    "testy = trainy\n",
    "\n",
    "print \"Train the model...\"\n",
    "input_params = {'alpha': 0.01, 'maxIter': 80, 'optimizeType': 'smoothStocGradDescent'}\n",
    "trainedWeights = trainLogReg(trainx, trainy, input_params)\n",
    "\n",
    "\n",
    "print \"Test the model...\"\n",
    "accuracy = testLogReg(trainedWeights, testx, testy)\n",
    "print \"Accuracy = \", accuracy\n",
    "\n",
    "print \"Make plots...\"\n",
    "plotLogReg(trainedWeights, trainx, trainy)"
   ]
  },
  {
   "cell_type": "code",
   "execution_count": null,
   "metadata": {
    "collapsed": true
   },
   "outputs": [],
   "source": []
  }
 ],
 "metadata": {
  "anaconda-cloud": {},
  "kernelspec": {
   "display_name": "Python [default]",
   "language": "python",
   "name": "python2"
  },
  "language_info": {
   "codemirror_mode": {
    "name": "ipython",
    "version": 2
   },
   "file_extension": ".py",
   "mimetype": "text/x-python",
   "name": "python",
   "nbconvert_exporter": "python",
   "pygments_lexer": "ipython2",
   "version": "2.7.12"
  }
 },
 "nbformat": 4,
 "nbformat_minor": 1
}

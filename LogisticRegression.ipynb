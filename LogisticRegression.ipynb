{
 "cells": [
  {
   "cell_type": "code",
   "execution_count": 12,
   "metadata": {
    "collapsed": false
   },
   "outputs": [],
   "source": [
    "from numpy import *\n",
    "import matplotlib.pyplot as plt"
   ]
  },
  {
   "cell_type": "code",
   "execution_count": 13,
   "metadata": {
    "collapsed": true
   },
   "outputs": [],
   "source": [
    "def sigmoid(inX):\n",
    "    return 1.0/(1 + exp(-inX))"
   ]
  },
  {
   "cell_type": "code",
   "execution_count": 31,
   "metadata": {
    "collapsed": true
   },
   "outputs": [],
   "source": [
    "def trainLogReg(xtrain, ytrain, param):\n",
    "    numSample, numFeature = shape(xtrain)\n",
    "    alpha = params['alpha']\n",
    "    maxIter = params['maxIter']\n",
    "    weights = ones((numFeature, 1))\n",
    "    \n",
    "    for i in range(maxIter):\n",
    "        if param['optimizeType'] == 'gradDescent': #gradient descent\n",
    "            output = sigmoid(xtrain * weights)\n",
    "            error = ytrain - output\n",
    "            weights = weights + alpha * xtrain.transpose() * error\n",
    "        elif param['optimizeType'] == 'stocGradDescent': #stochastic gradient descent\n",
    "            for j in range(numSample):\n",
    "                output = sigmoid(xtrain[j,:] * weights)\n",
    "                error = ytrain[j, 0] - output\n",
    "                weights = weights + alpha * xtrain[j, :].transpose() * error\n",
    "        elif param['optimizeType'] == 'smoothStocGradDescent': #smooth stochastic gradient descent\n",
    "            dataIndex = range(numSample)\n",
    "            for j in range(numSample):\n",
    "                alpha = 40/(1.0 + i + j) + 0.2\n",
    "                randIndex = int(random.uniform(0, len(dataIndex)))\n",
    "                output = sigmoid(xtrain[randIndex, :] * weights)\n",
    "                error = ytrain[randIndex, 0] - output\n",
    "                weights = weights + alpha * xtrain[randIndex,:].transpose() * error\n",
    "                del(dataIndex[randIndex]) #after one iteration, delete the sample\n",
    "        else:\n",
    "            raise NameError('Optimize type not valid!')\n",
    "            \n",
    "    return weights"
   ]
  },
  {
   "cell_type": "code",
   "execution_count": 15,
   "metadata": {
    "collapsed": false
   },
   "outputs": [],
   "source": [
    "def testLogReg(weights, xtest, ytest):\n",
    "    numSample, numFeature = shape(xtest)\n",
    "    correct = 0\n",
    "    for i in xrange(numSample):\n",
    "        predict = sigmoid(xtest[i,:] * weights)[0, 0] > 0.5\n",
    "        if predict == ytest[i, 0]:\n",
    "            correct += 1\n",
    "    accuracy = float(correct) / numSample\n",
    "    return accuracy"
   ]
  },
  {
   "cell_type": "code",
   "execution_count": 16,
   "metadata": {
    "collapsed": true
   },
   "outputs": [],
   "source": [
    "def plotLogReg(weights, xtrain, ytrain):\n",
    "    numSample, numFeature = shape(xtrain)\n",
    "    #only works for 2D array\n",
    "    #draw all dots\n",
    "    for i in range(numSample):\n",
    "        if (ytrain[i] == 0):\n",
    "            plt.plot(xtrain[i, 1], xtrain[i, 2], 'or')\n",
    "        elif (ytrain[i] == 1):\n",
    "            plt.plot(xtrain[i, 1], xtrain[i, 2], 'ob')\n",
    "            \n",
    "    min_x = min(xtrain[:, 1])[0, 0]\n",
    "    max_x = max(xtrain[:, 1])[0, 0]\n",
    "    weights = weights.getA() #convert mat to array\n",
    "    y_min = float(-weights[0] - weights[1] * min_x) / weights[2]\n",
    "    y_max = float(-weights[0] - weights[1] * max_x) / weights[2]\n",
    "    plt.plot([min_x, max_x], [y_min, y_max], '-g')\n",
    "    plt.xlabel('X1')\n",
    "    plt.ylabel('X2')\n",
    "    plt.show()"
   ]
  },
  {
   "cell_type": "code",
   "execution_count": 36,
   "metadata": {
    "collapsed": false
   },
   "outputs": [
    {
     "name": "stdout",
     "output_type": "stream",
     "text": [
      "Loading data...\n",
      "Train the model...\n",
      "Test the model...\n",
      "Accuracy =  0.823529411765\n",
      "Make plots...\n",
      "(0.24299999999999999, 0.77400000000000002, array([ 0.11027257]), array([ 0.12546036]))\n"
     ]
    },
    {
     "data": {
      "image/png": "[encoded data removed]",
      "text/plain": [
       "<matplotlib.figure.Figure at 0x10ee80610>"
      ]
     },
     "metadata": {},
     "output_type": "display_data"
    }
   ],
   "source": [
    "#Load data\n",
    "print \"Loading data...\"\n",
    "xtrain = []\n",
    "ytrain = []\n",
    "readFile = open('watermellon.txt')\n",
    "for row in readFile.readlines():\n",
    "    rowArray = row.strip().split()\n",
    "    xtrain.append([1.0, float(rowArray[0]), float(rowArray[1])])\n",
    "    ytrain.append(float(rowArray[2]))\n",
    "\n",
    "trainx = mat(xtrain)\n",
    "trainy = mat(ytrain).transpose()\n",
    "\n",
    "testx = trainx\n",
    "testy = trainy\n",
    "\n",
    "print \"Train the model...\"\n",
    "params = {'alpha': 0.01, 'maxIter': 80, 'optimizeType': 'smoothStocGradDescent'}\n",
    "trainedWeights = trainLogReg(trainx, trainy, params)\n",
    "\n",
    "\n",
    "print \"Test the model...\"\n",
    "accuracy = testLogReg(trainedWeights, testx, testy)\n",
    "print \"Accuracy = \", accuracy\n",
    "\n",
    "print \"Make plots...\"\n",
    "plotLogReg(trainedWeights, trainx, trainy)\n"
   ]
  },
  {
   "cell_type": "code",
   "execution_count": null,
   "metadata": {
    "collapsed": true
   },
   "outputs": [],
   "source": []
  },
  {
   "cell_type": "code",
   "execution_count": null,
   "metadata": {
    "collapsed": true
   },
   "outputs": [],
   "source": []
  }
 ],
 "metadata": {
  "anaconda-cloud": {},
  "kernelspec": {
   "display_name": "Python [default]",
   "language": "python",
   "name": "python2"
  },
  "language_info": {
   "codemirror_mode": {
    "name": "ipython",
    "version": 2
   },
   "file_extension": ".py",
   "mimetype": "text/x-python",
   "name": "python",
   "nbconvert_exporter": "python",
   "pygments_lexer": "ipython2",
   "version": "2.7.12"
  }
 },
 "nbformat": 4,
 "nbformat_minor": 1
}

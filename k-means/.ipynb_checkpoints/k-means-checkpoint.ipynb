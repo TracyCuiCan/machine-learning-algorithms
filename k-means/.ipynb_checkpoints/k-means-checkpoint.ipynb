{
 "cells": [
  {
   "cell_type": "markdown",
   "metadata": {},
   "source": [
    "## K-means :\n",
    "K-means is a clustering algorithm, which is unsupervised. It trys to classify all sample data into k categories. It's good at finding inner patterns of the dataset therefore it can be used as a single process or as preprocessing for other algorithms. The simplified k-means algorithm is:\n",
    "1. Randomnly choose k as centroids of clusters.\n",
    "2. Repeat for all remaining data points (Until the centroids doesn't update):\n",
    "     2.1 calculate its' distance form k centroids\n",
    "     2.2 put it in the nearest cluster\n",
    "     2.3 re-compute the centroid of that cluster\n",
    "3. Output clusters."
   ]
  },
  {
   "cell_type": "code",
   "execution_count": 1,
   "metadata": {
    "collapsed": false
   },
   "outputs": [
    {
     "name": "stderr",
     "output_type": "stream",
     "text": [
      "/Users/tracy/anaconda2/lib/python2.7/site-packages/matplotlib/font_manager.py:273: UserWarning: Matplotlib is building the font cache using fc-list. This may take a moment.\n",
      "  warnings.warn('Matplotlib is building the font cache using fc-list. This may take a moment.')\n"
     ]
    }
   ],
   "source": [
    "from numpy import *\n",
    "import numpy as np\n",
    "import pandas as pd\n",
    "import matplotlib.pyplot as plt"
   ]
  },
  {
   "cell_type": "markdown",
   "metadata": {},
   "source": [
    "## Load Data"
   ]
  },
  {
   "cell_type": "code",
   "execution_count": 2,
   "metadata": {
    "collapsed": true
   },
   "outputs": [],
   "source": [
    "def loadDataSet(fileName):\n",
    "    df = pd.read_csv(\"testData.txt\", sep='\\t', header=0, dtype=str, na_filter=False)\n",
    "    dataMat = np.array(df).astype(np.float)\n",
    "    return dataMat"
   ]
  },
  {
   "cell_type": "markdown",
   "metadata": {},
   "source": [
    "## Construct K initial centroids\n",
    "This function initialize the k centroids, we need to make sure that all centroids are within the dataSet."
   ]
  },
  {
   "cell_type": "code",
   "execution_count": 3,
   "metadata": {
    "collapsed": true
   },
   "outputs": [],
   "source": [
    "def randCent(dataSet, k):\n",
    "    n = shape(dataSet)[1]\n",
    "    centroids = mat(zeros((k, n)))\n",
    "    for j in range (n):\n",
    "        minJ = min(dataSet[:, j])\n",
    "        rangeJ = float(max(dataSet[:, j]) - minJ)\n",
    "        centroids[:, j] = minJ + rangeJ * random.rand(k, 1)\n",
    "    return centroids"
   ]
  },
  {
   "cell_type": "markdown",
   "metadata": {},
   "source": [
    "## Compute distance\n",
    "We use euclidean distance"
   ]
  },
  {
   "cell_type": "code",
   "execution_count": 4,
   "metadata": {
    "collapsed": true
   },
   "outputs": [],
   "source": [
    "def euclidDist(vecA, vecB):\n",
    "    return sqrt(sum(power(vecA - vecB, 2)))"
   ]
  },
  {
   "cell_type": "markdown",
   "metadata": {},
   "source": [
    "## K-means Clustering"
   ]
  },
  {
   "cell_type": "code",
   "execution_count": 5,
   "metadata": {
    "collapsed": false
   },
   "outputs": [],
   "source": [
    "def kMeans(dataSet, k):\n",
    "    m = shape(dataSet)[0]\n",
    "    clusterAssment = mat(zeros((m,2))) # Cluster classification for each data points\n",
    "    centroids = randCent(dataSet, k)\n",
    "    clusterChanged = True\n",
    "    while clusterChanged:\n",
    "        clusterChanged = False\n",
    "        # Classify data\n",
    "        for i in range(m):\n",
    "            minDist = inf; minIndex = -1\n",
    "            for j in range(k):\n",
    "                distJI = euclidDist(centroids[j, :], dataSet[i, :])\n",
    "                if distJI < minDist:\n",
    "                    minDist = distJI\n",
    "                    minIndex = j\n",
    "            if clusterAssment[i, 0] != minIndex:\n",
    "                clusterChanged = True\n",
    "            clusterAssment[i,:] = minIndex, minDist**2\n",
    "        print centroids\n",
    "        # Update centroids\n",
    "        for cent in range(k):\n",
    "            ptsInCluster = dataSet[nonzero(clusterAssment[:, 0].A == cent)[0]]\n",
    "            centroids[cent, :] = mean(ptsInCluster, axis = 0)\n",
    "    return centroids, clusterAssment"
   ]
  },
  {
   "cell_type": "markdown",
   "metadata": {
    "collapsed": true
   },
   "source": [
    "## Run and plot"
   ]
  },
  {
   "cell_type": "code",
   "execution_count": 6,
   "metadata": {
    "collapsed": false
   },
   "outputs": [
    {
     "name": "stdout",
     "output_type": "stream",
     "text": [
      "[[-1.65239043 -3.64123064]\n",
      " [ 1.84840421 -2.48080035]\n",
      " [-0.34211591 -2.08726531]\n",
      " [-5.15301763  4.01563463]]\n",
      "[[-3.38237045 -2.9473363 ]\n",
      " [ 2.97457926 -0.14574832]\n",
      " [ 0.0712905   0.9989875 ]\n",
      " [-2.30863532  3.05090547]]\n",
      "[[-3.19984738 -2.96423548]\n",
      " [ 3.13384339 -0.8633625 ]\n",
      " [ 1.63029582  2.99273927]\n",
      " [-2.54905874  2.81904858]]\n",
      "[[-3.38237045 -2.9473363 ]\n",
      " [ 2.8692781  -2.54779119]\n",
      " [ 2.59307722  3.15343278]\n",
      " [-2.46154315  2.78737555]]\n",
      "[[-3.38237045 -2.9473363 ]\n",
      " [ 2.80293085 -2.7315146 ]\n",
      " [ 2.67745332  3.04676142]\n",
      " [-2.46154315  2.78737555]]\n"
     ]
    },
    {
     "data": {
      "image/png": "[encoded data removed]",
      "text/plain": [
       "<matplotlib.figure.Figure at 0x1056d6310>"
      ]
     },
     "metadata": {},
     "output_type": "display_data"
    }
   ],
   "source": [
    "train_data = loadDataSet(\"testData.txt\")\n",
    "k = 4\n",
    "[cents, clusterAss] = kMeans(train_data, k)\n",
    "\n",
    "colors = ['b','g','r','k','c','m','y','#e24fff','#524C90','#845868']\n",
    "for i in range(k):\n",
    "    index = np.nonzero(clusterAss[:, 0] == i)[0]\n",
    "    x0 = train_data[index, 0]\n",
    "    x1 = train_data[index, 1]\n",
    "    y_i = i\n",
    "    for j in range(len(x0)):\n",
    "        plt.text(x0[j], x1[j], str(y_i), color=colors[i], fontdict={'weight': 'bold', 'size': 6})\n",
    "    plt.scatter(cents[i,0],cents[i,1],marker='+',color=colors[i],linewidths = 5)\n",
    "\n",
    "plt.axis([-7,7,-7,7])\n",
    "plt.show()"
   ]
  },
  {
   "cell_type": "code",
   "execution_count": null,
   "metadata": {
    "collapsed": true
   },
   "outputs": [],
   "source": []
  }
 ],
 "metadata": {
  "anaconda-cloud": {},
  "kernelspec": {
   "display_name": "Python [default]",
   "language": "python",
   "name": "python2"
  },
  "language_info": {
   "codemirror_mode": {
    "name": "ipython",
    "version": 2
   },
   "file_extension": ".py",
   "mimetype": "text/x-python",
   "name": "python",
   "nbconvert_exporter": "python",
   "pygments_lexer": "ipython2",
   "version": "2.7.12"
  }
 },
 "nbformat": 4,
 "nbformat_minor": 1
}

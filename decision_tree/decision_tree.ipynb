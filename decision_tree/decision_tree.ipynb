{
 "cells": [
  {
   "cell_type": "markdown",
   "metadata": {},
   "source": [
    "## Import packages"
   ]
  },
  {
   "cell_type": "code",
   "execution_count": 1,
   "metadata": {
    "collapsed": false
   },
   "outputs": [
    {
     "name": "stderr",
     "output_type": "stream",
     "text": [
      "/Users/tracy/anaconda2/lib/python2.7/site-packages/matplotlib/font_manager.py:273: UserWarning: Matplotlib is building the font cache using fc-list. This may take a moment.\n",
      "  warnings.warn('Matplotlib is building the font cache using fc-list. This may take a moment.')\n"
     ]
    }
   ],
   "source": [
    "from numpy import *\n",
    "import numpy as np\n",
    "import pandas as pd\n",
    "from math import log\n",
    "import operator\n",
    "import treePlotter"
   ]
  },
  {
   "cell_type": "markdown",
   "metadata": {},
   "source": [
    "## Compute Entropy"
   ]
  },
  {
   "cell_type": "code",
   "execution_count": 2,
   "metadata": {
    "collapsed": true
   },
   "outputs": [],
   "source": [
    "def calcShannonEnt(dataSet):\n",
    "    numEntries = len(dataSet)\n",
    "    labelCounts = {}\n",
    "    for featVec in dataSet:\n",
    "        currentLabel = featVec[-1]\n",
    "        if currentLabel not in labelCounts.keys():\n",
    "            labelCounts[currentLabel] = 0\n",
    "        labelCounts[currentLabel] += 1\n",
    "    shannonEnt = 0.0\n",
    "    for key in labelCounts:\n",
    "        prob = float(labelCounts[key]) / numEntries\n",
    "        shannonEnt -= prob * log(prob, 2)\n",
    "    return shannonEnt"
   ]
  },
  {
   "cell_type": "markdown",
   "metadata": {},
   "source": [
    "## Split dataset"
   ]
  },
  {
   "cell_type": "code",
   "execution_count": 3,
   "metadata": {
    "collapsed": true
   },
   "outputs": [],
   "source": [
    "#Split discrete dataset\n",
    "def splitDataSet(dataSet, axis, value):\n",
    "    retDataSet = []\n",
    "    for featVec in dataSet:\n",
    "        if featVec[axis] == value:\n",
    "            reducedFeatVec = featVec[:axis]\n",
    "            reducedFeatVec.extend(featVec[axis+1:])\n",
    "            retDataSet.append(reducedFeatVec)\n",
    "    return retDataSet\n",
    "\n",
    "#Split continuous dataset\n",
    "def splitContinuousDataSet(dataSet, axis, value, direction):\n",
    "    retDataSet = []\n",
    "    for featVec in dataSet:\n",
    "        if direction == 0:\n",
    "            if featVec[axis] > value:\n",
    "                reducedFeatVec = featVec[:axis]\n",
    "                reducedFeatVec.extend(featVec[axis+1:])\n",
    "                retDataSet.append(reducedFeatVec)\n",
    "        else:\n",
    "            if featVec[axis] <= value:\n",
    "                reducedFeatVec = featVec[:axis]\n",
    "                reducedFeatVec.extend(featVec[axis+1:])\n",
    "                retDataSet.append(reducedFeatVec)\n",
    "    return retDataSet"
   ]
  },
  {
   "cell_type": "markdown",
   "metadata": {},
   "source": [
    "## Choose Best Feature"
   ]
  },
  {
   "cell_type": "code",
   "execution_count": 17,
   "metadata": {
    "collapsed": true
   },
   "outputs": [],
   "source": [
    "def chooseBestFeatureToSplit(dataSet, labels):\n",
    "    numFeatures = len(dataSet[0]) - 1\n",
    "    baseEntropy = calcShannonEnt(dataSet)\n",
    "    bestInfoGain = 0.0\n",
    "    bestFeature = -1\n",
    "    bestSplitDict = {}\n",
    "    for i in range(numFeatures):\n",
    "        featList = [example[i] for example in dataSet]\n",
    "        # For continuous feature\n",
    "        if type(featList[0]).__name__ == 'float' or type(featList[0]).__name__ == 'int':\n",
    "            sortFeatList = sorted(featList)\n",
    "            splitList = []\n",
    "            for j in range(len(sortFeatList) - 1):\n",
    "                splitList.append((sortFeatList[j] + sortFeatList[j + 1])/2.0)\n",
    "                \n",
    "            bestSplitEntropy = 10000\n",
    "            slen = len(splitList)\n",
    "            for j in range(slen):\n",
    "                value = splitList[j]\n",
    "                newEntropy = 0.0\n",
    "                subDataSet0 = splitContinuousDataSet(dataSet, i, value, 0)\n",
    "                subDataSet1 = splitContinuousDataSet(dataSet, i, value, 1)\n",
    "                prob0 = len(subDataSet0) / float(len(dataSet))\n",
    "                newEntropy += prob0 * calcShannonEnt(subDataSet0)\n",
    "                prob1 = len(subDataSet1) / float(len(dataSet))\n",
    "                newEntropy += prob1 * calcShannonEnt(subDataSet1)\n",
    "                if newEntropy < bestSplitEntropy:\n",
    "                    bestSplitEntropy = newEntropy\n",
    "                    bestSplit = j\n",
    "            bestSplitDict[labels[i]] = splitList[bestSplit]\n",
    "            infoGain = baseEntropy - bestSplitEntropy\n",
    "        else:\n",
    "            uniqueVals = set(featList)\n",
    "            newEntropy = 0.0\n",
    "            for value in uniqueVals:\n",
    "                subDataSet = splitDataSet(dataSet, i, value)\n",
    "                prob = len(subDataSet) / float(len(dataSet))\n",
    "                newEntropy += prob * calcShannonEnt(subDataSet)\n",
    "            infoGain = baseEntropy - newEntropy\n",
    "        if infoGain > bestInfoGain:\n",
    "            bestInfoGain = infoGain\n",
    "            bestFeature = i\n",
    "            \n",
    "    if type(dataSet[0][bestFeature]).__name__ == 'float' or type(dataSet[0][bestFeature]).__name__ == 'int':\n",
    "        bestSplitValue = bestSplitDict[labels[bestFeature]]\n",
    "        labels[bestFeature] = labels[bestFeature] + '<=' + str(bestSplitValue)\n",
    "        for i in range(shape(dataSet)[0]):\n",
    "            if dataSet[i][bestFeature] <= bestSplitValue:\n",
    "                dataSet[i][bestFeature] = 1\n",
    "            else:\n",
    "                dataSet[i][bestFeature] = 0\n",
    "    return bestFeature\n",
    "\n",
    "def majorityCnt(classList):\n",
    "    classCount = {}\n",
    "    for vote in classList:\n",
    "        if vote not in classCount.keys():\n",
    "            classCount[vote] = 0\n",
    "        classCount[vote] += 1\n",
    "    return max(classCount);"
   ]
  },
  {
   "cell_type": "markdown",
   "metadata": {},
   "source": [
    "## Construct Tree"
   ]
  },
  {
   "cell_type": "code",
   "execution_count": 19,
   "metadata": {
    "collapsed": true
   },
   "outputs": [],
   "source": [
    "def createTree(dataSet, labels, data_full, labels_full):\n",
    "    classList = [example[-1] for example in dataSet]\n",
    "    if classList.count(classList[0]) == len(classList):\n",
    "        return classList[0]\n",
    "    if len(dataSet[0]) == 1:\n",
    "        return majorityCnt(classList)\n",
    "    bestFeat = chooseBestFeatureToSplit(dataSet, labels)\n",
    "    bestFeatLabel = labels[bestFeat]\n",
    "    myTree = {bestFeatLabel:{}}\n",
    "    featValues = [example[bestFeat] for example in dataSet]\n",
    "    uniqueValues = set(featValues)\n",
    "    if type(dataSet[0][bestFeat]).__name__ == 'str':\n",
    "        currentLabel = labels_full.index(labels[bestFeat])\n",
    "        featValuesFull = [example[currentLabel] for example in data_full]\n",
    "        uniqueValuesFull = set(featValuesFull)\n",
    "    del(labels[bestFeat])\n",
    "    \n",
    "    for value in uniqueValues:\n",
    "        subLabels = labels[:]\n",
    "        if type(dataSet[0][bestFeat]).__name__ == 'str':\n",
    "            uniqueValuesFull.remove(value)\n",
    "        myTree[bestFeatLabel][value] = createTree(splitDataSet(dataSet, bestFeat, value), subLabels, data_full, labels_full)\n",
    "    if type(dataSet[0][bestFeat]).__name__ == 'str':\n",
    "        for value in uniqueValuesFull:\n",
    "            myTree[bestFeatLabel][value] = majorityCnt(classList)\n",
    "    return myTree"
   ]
  },
  {
   "cell_type": "markdown",
   "metadata": {
    "collapsed": true
   },
   "source": [
    "## Train a decision_tree with dataSet"
   ]
  },
  {
   "cell_type": "code",
   "execution_count": 24,
   "metadata": {
    "collapsed": false
   },
   "outputs": [],
   "source": [
    "df = pd.read_csv('watermelon.csv')\n",
    "data = df.values[:, 1:].tolist()\n",
    "data_full = data[:]\n",
    "labels = df.columns.values[1:-1].tolist()\n",
    "labels_full = labels[:]"
   ]
  },
  {
   "cell_type": "code",
   "execution_count": 20,
   "metadata": {
    "collapsed": false
   },
   "outputs": [],
   "source": [
    "myTree = createTree(data,labels,data_full, labels_full)\n",
    ">>>myTree"
   ]
  },
  {
   "cell_type": "code",
   "execution_count": 23,
   "metadata": {
    "collapsed": false
   },
   "outputs": [
    {
     "data": {
      "image/png": "[encoded data removed]",
      "text/plain": [
       "<matplotlib.figure.Figure at 0x113a9b710>"
      ]
     },
     "metadata": {},
     "output_type": "display_data"
    }
   ],
   "source": [
    "treePlotter.createPlot(myTree)"
   ]
  }
 ],
 "metadata": {
  "anaconda-cloud": {},
  "kernelspec": {
   "display_name": "Python [default]",
   "language": "python",
   "name": "python2"
  },
  "language_info": {
   "codemirror_mode": {
    "name": "ipython",
    "version": 2
   },
   "file_extension": ".py",
   "mimetype": "text/x-python",
   "name": "python",
   "nbconvert_exporter": "python",
   "pygments_lexer": "ipython2",
   "version": "2.7.12"
  }
 },
 "nbformat": 4,
 "nbformat_minor": 1
}
